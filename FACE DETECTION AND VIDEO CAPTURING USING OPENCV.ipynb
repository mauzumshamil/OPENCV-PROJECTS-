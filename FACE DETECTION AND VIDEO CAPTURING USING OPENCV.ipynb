{
 "cells": [
  {
   "cell_type": "code",
   "execution_count": 1,
   "metadata": {},
   "outputs": [],
   "source": [
    "import cv2"
   ]
  },
  {
   "cell_type": "code",
   "execution_count": 2,
   "metadata": {},
   "outputs": [
    {
     "data": {
      "text/plain": [
       "< cv2.VideoCapture 000002503AED5A30>"
      ]
     },
     "execution_count": 2,
     "metadata": {},
     "output_type": "execute_result"
    }
   ],
   "source": [
    "vid = cv2.VideoCapture(r\"C:\\Users\\dell\\Desktop\\muizz and amna.mp4\")\n",
    "vid"
   ]
  },
  {
   "cell_type": "markdown",
   "metadata": {},
   "source": [
    "# video capture"
   ]
  },
  {
   "cell_type": "code",
   "execution_count": 3,
   "metadata": {},
   "outputs": [],
   "source": [
    "vid = cv2.VideoCapture(r\"C:\\Users\\dell\\Desktop\\muizz and amna.mp4\")\n",
    "\n",
    "while True:\n",
    "    success, Frame = vid.read()\n",
    "    if not success:\n",
    "        break\n",
    "    cv2.imshow(\"video\",Frame)\n",
    "    if cv2.waitKey(1) & 0xFF == 27:\n",
    "        break\n",
    "\n",
    "    \n",
    "vid.release()\n",
    "cv2.destroyAllWindows()"
   ]
  },
  {
   "cell_type": "markdown",
   "metadata": {},
   "source": [
    "# face detections"
   ]
  },
  {
   "cell_type": "code",
   "execution_count": 4,
   "metadata": {},
   "outputs": [],
   "source": [
    "face_cascade = cv2.CascadeClassifier(cv2.data.haarcascades  + 'haarcascade_frontalface_default.xml')"
   ]
  },
  {
   "cell_type": "code",
   "execution_count": 5,
   "metadata": {},
   "outputs": [],
   "source": [
    "vid = cv2.VideoCapture(r\"C:\\Users\\dell\\Desktop\\muizz and amna.mp4\")\n",
    "\n",
    "while True:\n",
    "    success,Frame = vid.read()\n",
    "\n",
    "    if Frame is not None and Frame.shape[0] > 0 and Frame.shape[1] > 0:\n",
    "        faces = face_cascade.detectMultiScale(Frame)\n",
    "        for (x,y,w,h) in faces:\n",
    "            cv2.rectangle(Frame,(x,y),(x+w,y+h),color=(255,0,255),thickness=3)\n",
    "\n",
    "            cv2.imshow(\"face detection\",Frame)\n",
    "\n",
    "    if cv2.waitKey(1) & 0xFF == 27:\n",
    "        break\n",
    "\n",
    "vid.release()\n",
    "cv2.destroyAllWindows()\n"
   ]
  }
 ],
 "metadata": {
  "kernelspec": {
   "display_name": "base",
   "language": "python",
   "name": "python3"
  },
  "language_info": {
   "codemirror_mode": {
    "name": "ipython",
    "version": 3
   },
   "file_extension": ".py",
   "mimetype": "text/x-python",
   "name": "python",
   "nbconvert_exporter": "python",
   "pygments_lexer": "ipython3",
   "version": "3.11.5"
  }
 },
 "nbformat": 4,
 "nbformat_minor": 2
}
