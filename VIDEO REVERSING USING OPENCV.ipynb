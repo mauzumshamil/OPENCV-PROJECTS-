{
 "cells": [
  {
   "cell_type": "markdown",
   "id": "04d1a834",
   "metadata": {},
   "source": [
    "# VIDEO REVERSING USING OPENCV \n",
    "BY MAUZUM SHAMIL\n"
   ]
  },
  {
   "cell_type": "code",
   "execution_count": 1,
   "id": "86784b6e",
   "metadata": {},
   "outputs": [],
   "source": [
    "#play video in reverse mode using OpenCV python\n",
    "\n",
    "import cv2   \n",
    "cap = cv2.VideoCapture(r\"C:\\Users\\dell\\Downloads\\3044748-uhd_3840_2160_24fps.mp4\") \n",
    "\n",
    "#Reading Frames and Saving Them\n",
    "check , vid = cap.read()\n",
    "counter = 0\n",
    "check = True \n",
    "frame_list = [] \n",
    "while(check == True): \n",
    "    cv2.imwrite(\"frame%d.jpg\" %counter , vid) \n",
    "    check , vid = cap.read() \n",
    "    frame_list.append(vid) \n",
    "    counter += 1\n",
    "\n",
    "#Removing the Last Frame and Reversing the List\n",
    "frame_list.pop() \n",
    "frame_list.reverse() \n",
    "\n",
    "# Displaying Frames in Reverse Order\n",
    "for frame in frame_list: \n",
    "    cv2.imshow(\"Frame\" , frame) \n",
    "    if cv2.waitKey(25) and 0xFF == ord(\"q\"): \n",
    "        break\n",
    "     \n",
    "# Releasing Resources and Closing Windows\n",
    "cap.release() \n",
    "cv2.destroyAllWindows()"
   ]
  },
  {
   "cell_type": "code",
   "execution_count": null,
   "id": "a1ab3e39",
   "metadata": {},
   "outputs": [],
   "source": []
  }
 ],
 "metadata": {
  "kernelspec": {
   "display_name": "Python 3 (ipykernel)",
   "language": "python",
   "name": "python3"
  },
  "language_info": {
   "codemirror_mode": {
    "name": "ipython",
    "version": 3
   },
   "file_extension": ".py",
   "mimetype": "text/x-python",
   "name": "python",
   "nbconvert_exporter": "python",
   "pygments_lexer": "ipython3",
   "version": "3.11.5"
  }
 },
 "nbformat": 4,
 "nbformat_minor": 5
}
